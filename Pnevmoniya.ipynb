{
  "nbformat": 4,
  "nbformat_minor": 0,
  "metadata": {
    "colab": {
      "private_outputs": true,
      "provenance": [],
      "gpuType": "T4",
      "authorship_tag": "ABX9TyNBw5PRFpaGc5alZFoo+/Hq",
      "include_colab_link": true
    },
    "kernelspec": {
      "name": "python3",
      "display_name": "Python 3"
    },
    "language_info": {
      "name": "python"
    },
    "accelerator": "GPU"
  },
  "cells": [
    {
      "cell_type": "markdown",
      "metadata": {
        "id": "view-in-github",
        "colab_type": "text"
      },
      "source": [
        "<a href=\"https://colab.research.google.com/github/makhmudovamunira/pnevmoniya/blob/main/Pnevmoniya.ipynb\" target=\"_parent\"><img src=\"https://colab.research.google.com/assets/colab-badge.svg\" alt=\"Open In Colab\"/></a>"
      ]
    },
    {
      "cell_type": "code",
      "source": [
        "import pandas as pd\n",
        "import numpy as np"
      ],
      "metadata": {
        "id": "PuXpUhFZAZUc"
      },
      "execution_count": null,
      "outputs": []
    },
    {
      "cell_type": "code",
      "source": [
        "import fastai\n",
        "import torch"
      ],
      "metadata": {
        "id": "8z0nqgplAfse"
      },
      "execution_count": null,
      "outputs": []
    },
    {
      "cell_type": "code",
      "source": [
        "!wget https://github.com/makhmudovamunira/pnevmoniya/blob/main/kaggle.json"
      ],
      "metadata": {
        "id": "UaGcUTeGgcJ8"
      },
      "execution_count": null,
      "outputs": []
    },
    {
      "cell_type": "markdown",
      "source": [
        "##Kaggle API Tokenini to'g'ri joyga yuklash"
      ],
      "metadata": {
        "id": "QILPi_MyyClE"
      }
    },
    {
      "cell_type": "code",
      "source": [
        "import shutil\n",
        "import os\n",
        "\n",
        "if os.path.exists(\"/root/.kaggle/kaggle.json\"):\n",
        "    os.remove(\"/root/.kaggle/kaggle.json\")\n",
        "\n",
        "os.makedirs(\"/root/.kaggle\", exist_ok=True)\n",
        "\n",
        "shutil.move(\"/content/kaggle.json\", \"/root/.kaggle/\")\n",
        "\n",
        "# Kaggle API ruxsatlarini o'rnatamiz\n",
        "os.chmod(\"/root/.kaggle/kaggle.json\", 600)\n",
        "\n",
        "\n",
        "print(\"Kaggle API token muvaffaqiyatli o‘rnatildi.\")"
      ],
      "metadata": {
        "id": "A7u9wzu03eBz"
      },
      "execution_count": null,
      "outputs": []
    },
    {
      "cell_type": "markdown",
      "source": [
        "## Datasetni yuklash"
      ],
      "metadata": {
        "id": "o0KZ6u77yH_V"
      }
    },
    {
      "cell_type": "code",
      "source": [
        "!kaggle competitions download -c pnevmoniya"
      ],
      "metadata": {
        "id": "88f3xp5Hxlnf"
      },
      "execution_count": null,
      "outputs": []
    },
    {
      "cell_type": "code",
      "source": [
        "path='/kaggle/input/pnevmoniya/train'\n",
        "print(os.listdir(path))"
      ],
      "metadata": {
        "id": "US1XVJ1-Brzg"
      },
      "execution_count": null,
      "outputs": []
    },
    {
      "cell_type": "code",
      "source": [
        "!unzip /content/pnevmoniya.zip"
      ],
      "metadata": {
        "id": "7YLRlTgWC0pK"
      },
      "execution_count": null,
      "outputs": []
    },
    {
      "cell_type": "code",
      "source": [
        "path='/content/train'\n",
        "print(os.listdir(path))"
      ],
      "metadata": {
        "id": "6KC64SLKDqDc"
      },
      "execution_count": null,
      "outputs": []
    },
    {
      "cell_type": "code",
      "source": [
        "from fastai.vision.all import *\n",
        "from ipywidgets import widgets\n",
        "\n",
        "#datablock yaratamiz\n",
        "lungs=DataBlock(\n",
        "    blocks=(ImageBlock, CategoryBlock),\n",
        "    get_items=lambda x: get_image_files(x),\n",
        "    splitter=RandomSplitter(valid_pct=0.2, seed=42),\n",
        "    get_y=parent_label,\n",
        "    item_tfms=Resize(224)\n",
        ")\n",
        "\n",
        "#dataloader qilamiz\n",
        "dls=lungs.dataloaders(path)\n",
        "\n",
        "#datasetni tekshiramiz bunda max n ta image chiqarib beradi\n",
        "#dls.show_batch(max_n=28, nrows=4)\n",
        "\n",
        "#train qilamiz\n",
        "learn=cnn_learner(dls, resnet50, metrics=accuracy)\n",
        "#learn.model.to('cuda')  #shart emas fastai avtomatik gpu ni ishga tushiradi\n",
        "learn.fine_tune(10)"
      ],
      "metadata": {
        "id": "Fn9x6wAJEAXj"
      },
      "execution_count": null,
      "outputs": []
    },
    {
      "cell_type": "code",
      "source": [
        "#tekshiramiz\n",
        "interp=ClassificationInterpretation.from_learner(learn)\n",
        "interp.plot_confusion_matrix()"
      ],
      "metadata": {
        "id": "pLvrkLfDEUD5"
      },
      "execution_count": null,
      "outputs": []
    },
    {
      "cell_type": "code",
      "source": [
        "#eng katta qilingan xatosini tekshirishini so'raymiz\n",
        "interp.plot_top_losses(4,nrows=1)"
      ],
      "metadata": {
        "id": "eNu5kz_AIof5"
      },
      "execution_count": null,
      "outputs": []
    },
    {
      "cell_type": "markdown",
      "source": [
        "##Test qilib csv filega joylaymiz"
      ],
      "metadata": {
        "id": "Moa5iH1XJXML"
      }
    },
    {
      "cell_type": "code",
      "source": [
        "from pathlib import Path\n",
        "test_path = Path(\"/content/test\")  # Test papka manzili\n",
        "test_images = list(test_path.iterdir())  # Barcha fayllarni ro‘yxatga olish"
      ],
      "metadata": {
        "id": "JNT-faxBJ44x"
      },
      "execution_count": null,
      "outputs": []
    },
    {
      "cell_type": "code",
      "source": [
        "predictions=[]\n",
        "for img_path in test_images:\n",
        "  img=PILImage.create(img_path)\n",
        "  pred, pred_id, probs=learn.predict(img)\n",
        "  if pred=='PNEUMONIA':\n",
        "    label=1\n",
        "  else:\n",
        "    label=0\n",
        "  predictions.append((img_path.name, label))\n",
        "\n",
        "df=pd.DataFrame(predictions, columns=['id', 'labels'])\n",
        "df.to_csv('PnevmoniyaPred.csv', index=False)\n",
        "print(\"Saqlandi\")"
      ],
      "metadata": {
        "id": "qQtOSSilMSbL"
      },
      "execution_count": null,
      "outputs": []
    }
  ]
}